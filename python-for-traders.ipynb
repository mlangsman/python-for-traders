{
 "cells": [
  {
   "cell_type": "code",
   "execution_count": 1,
   "id": "4beda4ba-a212-4d95-9d3f-3dc26836e0e5",
   "metadata": {},
   "outputs": [
    {
     "name": "stdout",
     "output_type": "stream",
     "text": [
      "Hello\n"
     ]
    }
   ],
   "source": [
    "print(\"Hello\")\n"
   ]
  },
  {
   "cell_type": "code",
   "execution_count": 2,
   "id": "4fb9810f-6e4f-4371-8df8-d2b1758a49c7",
   "metadata": {},
   "outputs": [
    {
     "name": "stdout",
     "output_type": "stream",
     "text": [
      "4\n"
     ]
    }
   ],
   "source": [
    "def add(x):\n",
    "    return x+1\n",
    "\n",
    "print(add(3))"
   ]
  },
  {
   "cell_type": "code",
   "execution_count": 3,
   "id": "6a4aa7dc-a5e0-4fea-a380-9b6f6684483e",
   "metadata": {},
   "outputs": [
    {
     "name": "stdout",
     "output_type": "stream",
     "text": [
      "Thread A starting \n",
      "Thread B starting \n",
      "\n",
      "Thread C starting \n",
      "\n",
      "\n",
      "Thread C complete \n",
      "\n",
      "Thread A complete \n",
      "\n",
      "Thread B complete \n",
      "\n",
      "Finished!\n"
     ]
    }
   ],
   "source": [
    "import threading\n",
    "import time\n",
    "\n",
    "def task(name,duration):\n",
    "    print(f\"Thread {name} starting \\n\")\n",
    "    time.sleep(duration)\n",
    "    print(f\"Thread {name} complete \\n\")\n",
    "\n",
    "thread1 = threading.Thread(target=task, args=(\"A\", 2))\n",
    "thread2 = threading.Thread(target=task, args=(\"B\", 4))\n",
    "thread3 = threading.Thread(target=task, args=(\"C\", 1.5))\n",
    "\n",
    "thread1.start()\n",
    "thread2.start()\n",
    "thread3.start()\n",
    "\n",
    "thread1.join()\n",
    "thread2.join()\n",
    "thread3.join()\n",
    "\n",
    "print(\"Finished!\")\n",
    "\n"
   ]
  },
  {
   "cell_type": "code",
   "execution_count": 5,
   "id": "6a869516-f64a-4df4-b8f7-17c6651f4d46",
   "metadata": {},
   "outputs": [
    {
     "name": "stdout",
     "output_type": "stream",
     "text": [
      "17chickens \n"
     ]
    }
   ],
   "source": [
    "import re\n",
    "\n",
    "sentence = \"I am a big yellow 17chickens bof\"\n",
    "match = re.search(r'17.*\\s',sentence)\n",
    "\n",
    "print(match.group())\n"
   ]
  },
  {
   "cell_type": "code",
   "execution_count": 7,
   "id": "b6d23965-af66-4350-8ee0-5f41be5ef1f9",
   "metadata": {},
   "outputs": [],
   "source": [
    "import pandas as pd"
   ]
  },
  {
   "cell_type": "code",
   "execution_count": 15,
   "id": "8edcdc8a-ae01-4ca5-8c82-5422df96a095",
   "metadata": {},
   "outputs": [
    {
     "data": {
      "text/html": [
       "<div>\n",
       "<style scoped>\n",
       "    .dataframe tbody tr th:only-of-type {\n",
       "        vertical-align: middle;\n",
       "    }\n",
       "\n",
       "    .dataframe tbody tr th {\n",
       "        vertical-align: top;\n",
       "    }\n",
       "\n",
       "    .dataframe thead th {\n",
       "        text-align: right;\n",
       "    }\n",
       "</style>\n",
       "<table border=\"1\" class=\"dataframe\">\n",
       "  <thead>\n",
       "    <tr style=\"text-align: right;\">\n",
       "      <th></th>\n",
       "      <th>name</th>\n",
       "      <th>age</th>\n",
       "    </tr>\n",
       "  </thead>\n",
       "  <tbody>\n",
       "    <tr>\n",
       "      <th>0</th>\n",
       "      <td>Timmah</td>\n",
       "      <td>21</td>\n",
       "    </tr>\n",
       "    <tr>\n",
       "      <th>1</th>\n",
       "      <td>Peter</td>\n",
       "      <td>12</td>\n",
       "    </tr>\n",
       "    <tr>\n",
       "      <th>2</th>\n",
       "      <td>Byron</td>\n",
       "      <td>72</td>\n",
       "    </tr>\n",
       "  </tbody>\n",
       "</table>\n",
       "</div>"
      ],
      "text/plain": [
       "     name  age\n",
       "0  Timmah   21\n",
       "1   Peter   12\n",
       "2   Byron   72"
      ]
     },
     "execution_count": 15,
     "metadata": {},
     "output_type": "execute_result"
    }
   ],
   "source": [
    "data = [[\"Timmah\",21],[\"Peter\",12],[\"Byron\",72]]\n",
    "df = pd.DataFrame(data,columns=[\"name\",\"age\"])\n",
    "df"
   ]
  },
  {
   "cell_type": "code",
   "execution_count": 11,
   "id": "e78aee39-0f1d-4253-836b-3b72f36145ae",
   "metadata": {},
   "outputs": [
    {
     "data": {
      "text/html": [
       "<div>\n",
       "<style scoped>\n",
       "    .dataframe tbody tr th:only-of-type {\n",
       "        vertical-align: middle;\n",
       "    }\n",
       "\n",
       "    .dataframe tbody tr th {\n",
       "        vertical-align: top;\n",
       "    }\n",
       "\n",
       "    .dataframe thead th {\n",
       "        text-align: right;\n",
       "    }\n",
       "</style>\n",
       "<table border=\"1\" class=\"dataframe\">\n",
       "  <thead>\n",
       "    <tr style=\"text-align: right;\">\n",
       "      <th></th>\n",
       "      <th>name</th>\n",
       "      <th>age</th>\n",
       "    </tr>\n",
       "  </thead>\n",
       "  <tbody>\n",
       "    <tr>\n",
       "      <th>0</th>\n",
       "      <td>bob</td>\n",
       "      <td>2</td>\n",
       "    </tr>\n",
       "    <tr>\n",
       "      <th>1</th>\n",
       "      <td>peter</td>\n",
       "      <td>1</td>\n",
       "    </tr>\n",
       "    <tr>\n",
       "      <th>2</th>\n",
       "      <td>byron</td>\n",
       "      <td>72</td>\n",
       "    </tr>\n",
       "  </tbody>\n",
       "</table>\n",
       "</div>"
      ],
      "text/plain": [
       "    name  age\n",
       "0    bob    2\n",
       "1  peter    1\n",
       "2  byron   72"
      ]
     },
     "execution_count": 11,
     "metadata": {},
     "output_type": "execute_result"
    }
   ],
   "source": [
    "frame = pd.DataFrame(data,columns=[\"name\",\"age\"])\n",
    "frame"
   ]
  },
  {
   "cell_type": "code",
   "execution_count": 16,
   "id": "5ebabfd9-e219-4376-a0f5-36551fbb39ff",
   "metadata": {},
   "outputs": [
    {
     "name": "stdout",
     "output_type": "stream",
     "text": [
      "      Name  Age         City\n",
      "0    Alice   25     New York\n",
      "1      Bob   30  Los Angeles\n",
      "2  Charlie   35      Chicago\n"
     ]
    }
   ],
   "source": [
    "import pandas as pd\n",
    "\n",
    "# From a dictionary\n",
    "data = {\n",
    "    'Name': ['Alice', 'Bob', 'Charlie'],\n",
    "    'Age': [25, 30, 35],\n",
    "    'City': ['New York', 'Los Angeles', 'Chicago']\n",
    "}\n",
    "df = pd.DataFrame(data)\n",
    "print(df)\n"
   ]
  },
  {
   "cell_type": "code",
   "execution_count": 17,
   "id": "9cb2204d-75e5-4e26-81f2-b8702a6ea853",
   "metadata": {},
   "outputs": [
    {
     "data": {
      "text/plain": [
       "<bound method DataFrame.info of       Name  Age         City\n",
       "0    Alice   25     New York\n",
       "1      Bob   30  Los Angeles\n",
       "2  Charlie   35      Chicago>"
      ]
     },
     "execution_count": 17,
     "metadata": {},
     "output_type": "execute_result"
    }
   ],
   "source": [
    "df.info"
   ]
  },
  {
   "cell_type": "code",
   "execution_count": 18,
   "id": "aaa838e4-a434-4287-95ed-2a8e88c81f26",
   "metadata": {},
   "outputs": [
    {
     "name": "stdout",
     "output_type": "stream",
     "text": [
      "<bound method DataFrame.info of       Name  Age         City\n",
      "0    Alice   25     New York\n",
      "1      Bob   30  Los Angeles\n",
      "2  Charlie   35      Chicago>\n"
     ]
    }
   ],
   "source": [
    "print (df.info)"
   ]
  },
  {
   "cell_type": "code",
   "execution_count": 19,
   "id": "dc3dacf3-e156-4789-a142-edcac622cd2f",
   "metadata": {},
   "outputs": [
    {
     "name": "stdout",
     "output_type": "stream",
     "text": [
      "<class 'pandas.core.frame.DataFrame'>\n",
      "RangeIndex: 3 entries, 0 to 2\n",
      "Data columns (total 3 columns):\n",
      " #   Column  Non-Null Count  Dtype \n",
      "---  ------  --------------  ----- \n",
      " 0   Name    3 non-null      object\n",
      " 1   Age     3 non-null      int64 \n",
      " 2   City    3 non-null      object\n",
      "dtypes: int64(1), object(2)\n",
      "memory usage: 204.0+ bytes\n"
     ]
    }
   ],
   "source": [
    "df.info()"
   ]
  },
  {
   "cell_type": "code",
   "execution_count": 20,
   "id": "bedeaa63-7143-45a6-aceb-32fe6a0f7002",
   "metadata": {},
   "outputs": [
    {
     "data": {
      "text/html": [
       "<div>\n",
       "<style scoped>\n",
       "    .dataframe tbody tr th:only-of-type {\n",
       "        vertical-align: middle;\n",
       "    }\n",
       "\n",
       "    .dataframe tbody tr th {\n",
       "        vertical-align: top;\n",
       "    }\n",
       "\n",
       "    .dataframe thead th {\n",
       "        text-align: right;\n",
       "    }\n",
       "</style>\n",
       "<table border=\"1\" class=\"dataframe\">\n",
       "  <thead>\n",
       "    <tr style=\"text-align: right;\">\n",
       "      <th></th>\n",
       "      <th>Age</th>\n",
       "    </tr>\n",
       "  </thead>\n",
       "  <tbody>\n",
       "    <tr>\n",
       "      <th>count</th>\n",
       "      <td>3.0</td>\n",
       "    </tr>\n",
       "    <tr>\n",
       "      <th>mean</th>\n",
       "      <td>30.0</td>\n",
       "    </tr>\n",
       "    <tr>\n",
       "      <th>std</th>\n",
       "      <td>5.0</td>\n",
       "    </tr>\n",
       "    <tr>\n",
       "      <th>min</th>\n",
       "      <td>25.0</td>\n",
       "    </tr>\n",
       "    <tr>\n",
       "      <th>25%</th>\n",
       "      <td>27.5</td>\n",
       "    </tr>\n",
       "    <tr>\n",
       "      <th>50%</th>\n",
       "      <td>30.0</td>\n",
       "    </tr>\n",
       "    <tr>\n",
       "      <th>75%</th>\n",
       "      <td>32.5</td>\n",
       "    </tr>\n",
       "    <tr>\n",
       "      <th>max</th>\n",
       "      <td>35.0</td>\n",
       "    </tr>\n",
       "  </tbody>\n",
       "</table>\n",
       "</div>"
      ],
      "text/plain": [
       "        Age\n",
       "count   3.0\n",
       "mean   30.0\n",
       "std     5.0\n",
       "min    25.0\n",
       "25%    27.5\n",
       "50%    30.0\n",
       "75%    32.5\n",
       "max    35.0"
      ]
     },
     "execution_count": 20,
     "metadata": {},
     "output_type": "execute_result"
    }
   ],
   "source": [
    "df.describe()"
   ]
  },
  {
   "cell_type": "code",
   "execution_count": 21,
   "id": "c9d08c18-3ee1-452d-be02-3a0ed75bf481",
   "metadata": {},
   "outputs": [
    {
     "name": "stdout",
     "output_type": "stream",
     "text": [
      "        Age\n",
      "count   3.0\n",
      "mean   30.0\n",
      "std     5.0\n",
      "min    25.0\n",
      "25%    27.5\n",
      "50%    30.0\n",
      "75%    32.5\n",
      "max    35.0\n"
     ]
    }
   ],
   "source": [
    "print(df.describe())"
   ]
  },
  {
   "cell_type": "code",
   "execution_count": 22,
   "id": "87046985-b6af-4c29-a9e7-1de5b0ea5cc1",
   "metadata": {},
   "outputs": [],
   "source": [
    "column = df[\"Name\"]"
   ]
  },
  {
   "cell_type": "code",
   "execution_count": 23,
   "id": "9b79dd3f-7b58-46e8-8f87-4ea2df4edade",
   "metadata": {},
   "outputs": [
    {
     "name": "stdout",
     "output_type": "stream",
     "text": [
      "0      Alice\n",
      "1        Bob\n",
      "2    Charlie\n",
      "Name: Name, dtype: object\n"
     ]
    }
   ],
   "source": [
    "print(column)"
   ]
  },
  {
   "cell_type": "code",
   "execution_count": 24,
   "id": "06b84e7a-98f4-41aa-bfb6-33d2af65f4b5",
   "metadata": {},
   "outputs": [
    {
     "data": {
      "text/plain": [
       "pandas.core.series.Series"
      ]
     },
     "execution_count": 24,
     "metadata": {},
     "output_type": "execute_result"
    }
   ],
   "source": [
    "type(column)"
   ]
  },
  {
   "cell_type": "code",
   "execution_count": 25,
   "id": "4a7a6b4f-8e79-4c51-9df1-d36a4c79440b",
   "metadata": {},
   "outputs": [],
   "source": [
    "df = pd.read_csv(\"https://query1.finance.yahoo.com/v7/finance/download/GOOG?period1=1092873600&period2=1716940800&interval=1d&events=history&includeAdjustedClose=true\")\n"
   ]
  },
  {
   "cell_type": "code",
   "execution_count": 26,
   "id": "3e150932-7f74-4b0f-8059-bbf28589ddc5",
   "metadata": {
    "scrolled": true
   },
   "outputs": [
    {
     "data": {
      "text/html": [
       "<div>\n",
       "<style scoped>\n",
       "    .dataframe tbody tr th:only-of-type {\n",
       "        vertical-align: middle;\n",
       "    }\n",
       "\n",
       "    .dataframe tbody tr th {\n",
       "        vertical-align: top;\n",
       "    }\n",
       "\n",
       "    .dataframe thead th {\n",
       "        text-align: right;\n",
       "    }\n",
       "</style>\n",
       "<table border=\"1\" class=\"dataframe\">\n",
       "  <thead>\n",
       "    <tr style=\"text-align: right;\">\n",
       "      <th></th>\n",
       "      <th>Date</th>\n",
       "      <th>Open</th>\n",
       "      <th>High</th>\n",
       "      <th>Low</th>\n",
       "      <th>Close</th>\n",
       "      <th>Adj Close</th>\n",
       "      <th>Volume</th>\n",
       "    </tr>\n",
       "  </thead>\n",
       "  <tbody>\n",
       "    <tr>\n",
       "      <th>0</th>\n",
       "      <td>2004-08-19</td>\n",
       "      <td>2.490664</td>\n",
       "      <td>2.591785</td>\n",
       "      <td>2.390042</td>\n",
       "      <td>2.499133</td>\n",
       "      <td>2.499133</td>\n",
       "      <td>897427216</td>\n",
       "    </tr>\n",
       "    <tr>\n",
       "      <th>1</th>\n",
       "      <td>2004-08-20</td>\n",
       "      <td>2.515820</td>\n",
       "      <td>2.716817</td>\n",
       "      <td>2.503118</td>\n",
       "      <td>2.697639</td>\n",
       "      <td>2.697639</td>\n",
       "      <td>458857488</td>\n",
       "    </tr>\n",
       "    <tr>\n",
       "      <th>2</th>\n",
       "      <td>2004-08-23</td>\n",
       "      <td>2.758411</td>\n",
       "      <td>2.826406</td>\n",
       "      <td>2.716070</td>\n",
       "      <td>2.724787</td>\n",
       "      <td>2.724787</td>\n",
       "      <td>366857939</td>\n",
       "    </tr>\n",
       "    <tr>\n",
       "      <th>3</th>\n",
       "      <td>2004-08-24</td>\n",
       "      <td>2.770615</td>\n",
       "      <td>2.779581</td>\n",
       "      <td>2.579581</td>\n",
       "      <td>2.611960</td>\n",
       "      <td>2.611960</td>\n",
       "      <td>306396159</td>\n",
       "    </tr>\n",
       "    <tr>\n",
       "      <th>4</th>\n",
       "      <td>2004-08-25</td>\n",
       "      <td>2.614201</td>\n",
       "      <td>2.689918</td>\n",
       "      <td>2.587302</td>\n",
       "      <td>2.640104</td>\n",
       "      <td>2.640104</td>\n",
       "      <td>184645512</td>\n",
       "    </tr>\n",
       "    <tr>\n",
       "      <th>...</th>\n",
       "      <td>...</td>\n",
       "      <td>...</td>\n",
       "      <td>...</td>\n",
       "      <td>...</td>\n",
       "      <td>...</td>\n",
       "      <td>...</td>\n",
       "      <td>...</td>\n",
       "    </tr>\n",
       "    <tr>\n",
       "      <th>4972</th>\n",
       "      <td>2024-05-21</td>\n",
       "      <td>178.399994</td>\n",
       "      <td>179.820007</td>\n",
       "      <td>177.309998</td>\n",
       "      <td>179.539993</td>\n",
       "      <td>179.539993</td>\n",
       "      <td>14706000</td>\n",
       "    </tr>\n",
       "    <tr>\n",
       "      <th>4973</th>\n",
       "      <td>2024-05-22</td>\n",
       "      <td>178.399994</td>\n",
       "      <td>178.852005</td>\n",
       "      <td>176.779999</td>\n",
       "      <td>178.000000</td>\n",
       "      <td>178.000000</td>\n",
       "      <td>16189400</td>\n",
       "    </tr>\n",
       "    <tr>\n",
       "      <th>4974</th>\n",
       "      <td>2024-05-23</td>\n",
       "      <td>178.779999</td>\n",
       "      <td>179.910004</td>\n",
       "      <td>174.539993</td>\n",
       "      <td>175.059998</td>\n",
       "      <td>175.059998</td>\n",
       "      <td>14928400</td>\n",
       "    </tr>\n",
       "    <tr>\n",
       "      <th>4975</th>\n",
       "      <td>2024-05-24</td>\n",
       "      <td>176.520004</td>\n",
       "      <td>177.304001</td>\n",
       "      <td>175.199997</td>\n",
       "      <td>176.330002</td>\n",
       "      <td>176.330002</td>\n",
       "      <td>11400600</td>\n",
       "    </tr>\n",
       "    <tr>\n",
       "      <th>4976</th>\n",
       "      <td>2024-05-28</td>\n",
       "      <td>175.740005</td>\n",
       "      <td>178.509995</td>\n",
       "      <td>175.679993</td>\n",
       "      <td>178.020004</td>\n",
       "      <td>178.020004</td>\n",
       "      <td>15642400</td>\n",
       "    </tr>\n",
       "  </tbody>\n",
       "</table>\n",
       "<p>4977 rows × 7 columns</p>\n",
       "</div>"
      ],
      "text/plain": [
       "            Date        Open        High         Low       Close   Adj Close  \\\n",
       "0     2004-08-19    2.490664    2.591785    2.390042    2.499133    2.499133   \n",
       "1     2004-08-20    2.515820    2.716817    2.503118    2.697639    2.697639   \n",
       "2     2004-08-23    2.758411    2.826406    2.716070    2.724787    2.724787   \n",
       "3     2004-08-24    2.770615    2.779581    2.579581    2.611960    2.611960   \n",
       "4     2004-08-25    2.614201    2.689918    2.587302    2.640104    2.640104   \n",
       "...          ...         ...         ...         ...         ...         ...   \n",
       "4972  2024-05-21  178.399994  179.820007  177.309998  179.539993  179.539993   \n",
       "4973  2024-05-22  178.399994  178.852005  176.779999  178.000000  178.000000   \n",
       "4974  2024-05-23  178.779999  179.910004  174.539993  175.059998  175.059998   \n",
       "4975  2024-05-24  176.520004  177.304001  175.199997  176.330002  176.330002   \n",
       "4976  2024-05-28  175.740005  178.509995  175.679993  178.020004  178.020004   \n",
       "\n",
       "         Volume  \n",
       "0     897427216  \n",
       "1     458857488  \n",
       "2     366857939  \n",
       "3     306396159  \n",
       "4     184645512  \n",
       "...         ...  \n",
       "4972   14706000  \n",
       "4973   16189400  \n",
       "4974   14928400  \n",
       "4975   11400600  \n",
       "4976   15642400  \n",
       "\n",
       "[4977 rows x 7 columns]"
      ]
     },
     "execution_count": 26,
     "metadata": {},
     "output_type": "execute_result"
    }
   ],
   "source": [
    "df"
   ]
  },
  {
   "cell_type": "code",
   "execution_count": 27,
   "id": "6001014e-3df3-440a-87d6-880a6b58b04f",
   "metadata": {},
   "outputs": [
    {
     "name": "stdout",
     "output_type": "stream",
     "text": [
      "<class 'pandas.core.frame.DataFrame'>\n",
      "RangeIndex: 4977 entries, 0 to 4976\n",
      "Data columns (total 7 columns):\n",
      " #   Column     Non-Null Count  Dtype  \n",
      "---  ------     --------------  -----  \n",
      " 0   Date       4977 non-null   object \n",
      " 1   Open       4977 non-null   float64\n",
      " 2   High       4977 non-null   float64\n",
      " 3   Low        4977 non-null   float64\n",
      " 4   Close      4977 non-null   float64\n",
      " 5   Adj Close  4977 non-null   float64\n",
      " 6   Volume     4977 non-null   int64  \n",
      "dtypes: float64(5), int64(1), object(1)\n",
      "memory usage: 272.3+ KB\n"
     ]
    }
   ],
   "source": [
    "df.info()\n"
   ]
  },
  {
   "cell_type": "code",
   "execution_count": 28,
   "id": "2e04cf35-fa30-4b2e-89e0-deeaafd6943a",
   "metadata": {},
   "outputs": [
    {
     "data": {
      "text/html": [
       "<div>\n",
       "<style scoped>\n",
       "    .dataframe tbody tr th:only-of-type {\n",
       "        vertical-align: middle;\n",
       "    }\n",
       "\n",
       "    .dataframe tbody tr th {\n",
       "        vertical-align: top;\n",
       "    }\n",
       "\n",
       "    .dataframe thead th {\n",
       "        text-align: right;\n",
       "    }\n",
       "</style>\n",
       "<table border=\"1\" class=\"dataframe\">\n",
       "  <thead>\n",
       "    <tr style=\"text-align: right;\">\n",
       "      <th></th>\n",
       "      <th>Open</th>\n",
       "      <th>High</th>\n",
       "      <th>Low</th>\n",
       "      <th>Close</th>\n",
       "      <th>Adj Close</th>\n",
       "      <th>Volume</th>\n",
       "    </tr>\n",
       "  </thead>\n",
       "  <tbody>\n",
       "    <tr>\n",
       "      <th>count</th>\n",
       "      <td>4977.000000</td>\n",
       "      <td>4977.000000</td>\n",
       "      <td>4977.000000</td>\n",
       "      <td>4977.000000</td>\n",
       "      <td>4977.000000</td>\n",
       "      <td>4.977000e+03</td>\n",
       "    </tr>\n",
       "    <tr>\n",
       "      <th>mean</th>\n",
       "      <td>44.081316</td>\n",
       "      <td>44.548467</td>\n",
       "      <td>43.640387</td>\n",
       "      <td>44.105351</td>\n",
       "      <td>44.105351</td>\n",
       "      <td>1.166029e+08</td>\n",
       "    </tr>\n",
       "    <tr>\n",
       "      <th>std</th>\n",
       "      <td>41.645254</td>\n",
       "      <td>42.114605</td>\n",
       "      <td>41.235786</td>\n",
       "      <td>41.688266</td>\n",
       "      <td>41.688266</td>\n",
       "      <td>1.501576e+08</td>\n",
       "    </tr>\n",
       "    <tr>\n",
       "      <th>min</th>\n",
       "      <td>2.470490</td>\n",
       "      <td>2.534002</td>\n",
       "      <td>2.390042</td>\n",
       "      <td>2.490913</td>\n",
       "      <td>2.490913</td>\n",
       "      <td>1.584340e+05</td>\n",
       "    </tr>\n",
       "    <tr>\n",
       "      <th>25%</th>\n",
       "      <td>12.957183</td>\n",
       "      <td>13.121318</td>\n",
       "      <td>12.833397</td>\n",
       "      <td>12.977856</td>\n",
       "      <td>12.977856</td>\n",
       "      <td>2.773400e+07</td>\n",
       "    </tr>\n",
       "    <tr>\n",
       "      <th>50%</th>\n",
       "      <td>26.888466</td>\n",
       "      <td>27.057501</td>\n",
       "      <td>26.652000</td>\n",
       "      <td>26.889673</td>\n",
       "      <td>26.889673</td>\n",
       "      <td>5.734200e+07</td>\n",
       "    </tr>\n",
       "    <tr>\n",
       "      <th>75%</th>\n",
       "      <td>59.593498</td>\n",
       "      <td>60.000000</td>\n",
       "      <td>59.111500</td>\n",
       "      <td>59.562500</td>\n",
       "      <td>59.562500</td>\n",
       "      <td>1.443912e+08</td>\n",
       "    </tr>\n",
       "    <tr>\n",
       "      <th>max</th>\n",
       "      <td>178.779999</td>\n",
       "      <td>179.949997</td>\n",
       "      <td>177.309998</td>\n",
       "      <td>179.539993</td>\n",
       "      <td>179.539993</td>\n",
       "      <td>1.650833e+09</td>\n",
       "    </tr>\n",
       "  </tbody>\n",
       "</table>\n",
       "</div>"
      ],
      "text/plain": [
       "              Open         High          Low        Close    Adj Close  \\\n",
       "count  4977.000000  4977.000000  4977.000000  4977.000000  4977.000000   \n",
       "mean     44.081316    44.548467    43.640387    44.105351    44.105351   \n",
       "std      41.645254    42.114605    41.235786    41.688266    41.688266   \n",
       "min       2.470490     2.534002     2.390042     2.490913     2.490913   \n",
       "25%      12.957183    13.121318    12.833397    12.977856    12.977856   \n",
       "50%      26.888466    27.057501    26.652000    26.889673    26.889673   \n",
       "75%      59.593498    60.000000    59.111500    59.562500    59.562500   \n",
       "max     178.779999   179.949997   177.309998   179.539993   179.539993   \n",
       "\n",
       "             Volume  \n",
       "count  4.977000e+03  \n",
       "mean   1.166029e+08  \n",
       "std    1.501576e+08  \n",
       "min    1.584340e+05  \n",
       "25%    2.773400e+07  \n",
       "50%    5.734200e+07  \n",
       "75%    1.443912e+08  \n",
       "max    1.650833e+09  "
      ]
     },
     "execution_count": 28,
     "metadata": {},
     "output_type": "execute_result"
    }
   ],
   "source": [
    "df.describe()\n"
   ]
  },
  {
   "cell_type": "code",
   "execution_count": 29,
   "id": "918e477c-943d-46a6-b240-fa5ec5b644d3",
   "metadata": {},
   "outputs": [],
   "source": [
    "df['Daily Return'] = df['Adj Close'].pct_change()\n"
   ]
  },
  {
   "cell_type": "code",
   "execution_count": 30,
   "id": "584e7d94-d787-48b5-8183-3d5f56f542f9",
   "metadata": {},
   "outputs": [
    {
     "data": {
      "text/plain": [
       "0            NaN\n",
       "1       0.079430\n",
       "2       0.010064\n",
       "3      -0.041408\n",
       "4       0.010775\n",
       "          ...   \n",
       "4972    0.006052\n",
       "4973   -0.008577\n",
       "4974   -0.016517\n",
       "4975    0.007255\n",
       "4976    0.009584\n",
       "Name: Daily Return, Length: 4977, dtype: float64"
      ]
     },
     "execution_count": 30,
     "metadata": {},
     "output_type": "execute_result"
    }
   ],
   "source": [
    "df['Daily Return']"
   ]
  },
  {
   "cell_type": "code",
   "execution_count": 31,
   "id": "b30d29e5-5a89-4ebc-ab91-46ae38790a1f",
   "metadata": {},
   "outputs": [
    {
     "name": "stdout",
     "output_type": "stream",
     "text": [
      "<class 'pandas.core.frame.DataFrame'>\n",
      "RangeIndex: 4977 entries, 0 to 4976\n",
      "Data columns (total 8 columns):\n",
      " #   Column        Non-Null Count  Dtype  \n",
      "---  ------        --------------  -----  \n",
      " 0   Date          4977 non-null   object \n",
      " 1   Open          4977 non-null   float64\n",
      " 2   High          4977 non-null   float64\n",
      " 3   Low           4977 non-null   float64\n",
      " 4   Close         4977 non-null   float64\n",
      " 5   Adj Close     4977 non-null   float64\n",
      " 6   Volume        4977 non-null   int64  \n",
      " 7   Daily Return  4976 non-null   float64\n",
      "dtypes: float64(6), int64(1), object(1)\n",
      "memory usage: 311.2+ KB\n"
     ]
    }
   ],
   "source": [
    "df.info()\n"
   ]
  },
  {
   "cell_type": "code",
   "execution_count": null,
   "id": "e1fe6fef-8c2d-4be4-974f-de695cd30233",
   "metadata": {},
   "outputs": [],
   "source": []
  }
 ],
 "metadata": {
  "kernelspec": {
   "display_name": "Python 3 (ipykernel)",
   "language": "python",
   "name": "python3"
  },
  "language_info": {
   "codemirror_mode": {
    "name": "ipython",
    "version": 3
   },
   "file_extension": ".py",
   "mimetype": "text/x-python",
   "name": "python",
   "nbconvert_exporter": "python",
   "pygments_lexer": "ipython3",
   "version": "3.12.3"
  }
 },
 "nbformat": 4,
 "nbformat_minor": 5
}
